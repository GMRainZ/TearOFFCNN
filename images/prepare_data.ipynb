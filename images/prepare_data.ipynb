{
 "cells": [
  {
   "cell_type": "code",
   "execution_count": 3,
   "metadata": {},
   "outputs": [],
   "source": [
    "testData=\"./testData\"\n",
    "trainData=\"./trainData\"\n",
    "\n",
    "targetPath=\"./dataset\"\n",
    "\n",
    "nums_classes=10\n",
    "\n",
    "import os\n",
    "import shutil\n",
    "\n",
    "# for i in range(nums_classes):\n",
    "#     os.makedirs(os.path.join(targetPath,str(i)))\n",
    "\n",
    "\n",
    "\n",
    "for i in range(nums_classes):\n",
    "    src_data_path=testData+\"/testDigit\"+str(i)\n",
    "    dst_data_path=targetPath+\"/\"+str(i)\n",
    "\n",
    "    for file_name in os.listdir(src_data_path):\n",
    "        shutil.move(os.path.join(src_data_path,file_name),os.path.join(dst_data_path,\"test\"+file_name))\n",
    "\n",
    "    src_data_path=trainData+\"/trainDigit\"+str(i)\n",
    "\n",
    "    for file_name in os.listdir(src_data_path):\n",
    "        shutil.move(os.path.join(src_data_path,file_name),os.path.join(dst_data_path,\"train\"+file_name))\n"
   ]
  }
 ],
 "metadata": {
  "kernelspec": {
   "display_name": "opencv",
   "language": "python",
   "name": "python3"
  },
  "language_info": {
   "codemirror_mode": {
    "name": "ipython",
    "version": 3
   },
   "file_extension": ".py",
   "mimetype": "text/x-python",
   "name": "python",
   "nbconvert_exporter": "python",
   "pygments_lexer": "ipython3",
   "version": "3.8.19"
  }
 },
 "nbformat": 4,
 "nbformat_minor": 2
}
